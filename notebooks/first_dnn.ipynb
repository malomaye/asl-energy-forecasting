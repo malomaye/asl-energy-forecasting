{
 "cells": [
  {
   "cell_type": "code",
   "execution_count": 1,
   "id": "75456d09-d98b-48e4-b4d7-533a2c736d18",
   "metadata": {},
   "outputs": [
    {
     "name": "stderr",
     "output_type": "stream",
     "text": [
      "2021-11-01 17:10:00.475786: I tensorflow/stream_executor/platform/default/dso_loader.cc:48] Successfully opened dynamic library libcudart.so.11.0\n"
     ]
    },
    {
     "name": "stdout",
     "output_type": "stream",
     "text": [
      "2.3.4\n"
     ]
    }
   ],
   "source": [
    "import os\n",
    "\n",
    "import numpy as np\n",
    "import pandas as pd\n",
    "import tensorflow as tf\n",
    "\n",
    "import datetime\n",
    "\n",
    "import matplotlib.pyplot as plt\n",
    "import seaborn as sns\n",
    "from tensorflow import keras\n",
    "from tensorflow import feature_column as fc\n",
    "from tensorflow.keras import layers, models, Model\n",
    "%matplotlib inline\n",
    "\n",
    "from data_utils import get_column_input_dict\n",
    "\n",
    "print(tf.version.VERSION)"
   ]
  },
  {
   "cell_type": "code",
   "execution_count": 2,
   "id": "acbc3a35-d6c4-4d1a-af29-26d4b47a313f",
   "metadata": {},
   "outputs": [
    {
     "name": "stdout",
     "output_type": "stream",
     "text": [
      "train shape: (351802, 314)\n",
      "eval shape: (117268, 314)\n",
      "test shape: (117268, 314)\n"
     ]
    }
   ],
   "source": [
    "train_df = pd.read_csv('./data/train_energy.csv')\n",
    "print(f'train shape: {train_df.shape}')\n",
    "eval_df = pd.read_csv('./data/validate_energy.csv')\n",
    "print(f'eval shape: {eval_df.shape}')\n",
    "test_df = pd.read_csv('./data/test_energy.csv')\n",
    "print(f'test shape: {test_df.shape}')"
   ]
  },
  {
   "cell_type": "code",
   "execution_count": 3,
   "id": "aca07206-e924-47ff-b31c-76e3f449c171",
   "metadata": {},
   "outputs": [
    {
     "data": {
      "text/plain": [
       "dict_keys(['CSV_COLUMNS', 'LABEL_COLUMNS', 'STRING_COLS', 'NUMERIC_COLS', 'DEFAULTS', 'EXCLUSION_COLS'])"
      ]
     },
     "execution_count": 3,
     "metadata": {},
     "output_type": "execute_result"
    }
   ],
   "source": [
    "col_dict = get_column_input_dict(train_df)\n",
    "col_dict.keys()"
   ]
  },
  {
   "cell_type": "markdown",
   "id": "7c9aff38-53bb-4340-bc33-76186de8865e",
   "metadata": {},
   "source": [
    "### Column Labels for First Record in DataFrame"
   ]
  },
  {
   "cell_type": "code",
   "execution_count": 4,
   "id": "bdaa3e27-0091-4f6f-9dad-0f352e46cc6b",
   "metadata": {},
   "outputs": [
    {
     "data": {
      "text/plain": [
       "array([7415.77136515, 6121.89789123, 5896.23751387, 5859.54495006,\n",
       "       5859.51165372, 6977.95782464, 5682.83018868, 5734.572697  ,\n",
       "       5767.20310766, 5786.35960044, 5939.54495006, 5967.48057714,\n",
       "       7323.04106548, 5998.97891232, 5918.43507214, 6028.53496115,\n",
       "       5790.86570477, 6565.92674806, 5506.31520533, 5590.63263041,\n",
       "       5681.74250832, 5782.77469478, 6052.14206437, 6004.46170921,\n",
       "       5742.91897891, 5510.72142064, 5141.30965594, 5393.09655938])"
      ]
     },
     "execution_count": 4,
     "metadata": {},
     "output_type": "execute_result"
    }
   ],
   "source": [
    "train_df[col_dict['LABEL_COLUMNS']].values[0]"
   ]
  },
  {
   "cell_type": "code",
   "execution_count": null,
   "id": "ee163db8-936e-41d7-b600-386479c26335",
   "metadata": {},
   "outputs": [],
   "source": []
  },
  {
   "cell_type": "code",
   "execution_count": 5,
   "id": "42f13cf6-945d-4972-9928-88605f2461c5",
   "metadata": {},
   "outputs": [],
   "source": [
    "def df_to_dataset(dataframe, feature_columns, label_columns, shuffle=True, batch_size=32):\n",
    "    \n",
    "    dataframe = dataframe.copy()\n",
    "    labels = dataframe[label_columns].values\n",
    "    \n",
    "    for col in dataframe.columns:\n",
    "        if col not in feature_columns:\n",
    "            dataframe.pop(col)\n",
    "    \n",
    "    ds = tf.data.Dataset.from_tensor_slices((dict(dataframe), labels))\n",
    "    if shuffle:\n",
    "        ds = ds.shuffle(buffer_size=10000)\n",
    "    ds = ds.batch(batch_size)\n",
    "    ds = ds.prefetch(batch_size)\n",
    "    \n",
    "    return ds"
   ]
  },
  {
   "cell_type": "code",
   "execution_count": null,
   "id": "d7e320d4-a22c-4558-8a0e-6e5607fe5731",
   "metadata": {},
   "outputs": [],
   "source": []
  },
  {
   "cell_type": "code",
   "execution_count": 6,
   "id": "223c10f4-b59e-4ddb-9392-393ad9fbbd1d",
   "metadata": {},
   "outputs": [],
   "source": [
    "def create_input_layers(numeric_cols, string_cols):\n",
    "    \"\"\"Creates dictionary of input layers for each feature.\n",
    "\n",
    "    Returns:\n",
    "        Dictionary of `tf.Keras.layers.Input` layers for each feature.\n",
    "    \"\"\"\n",
    "    inputs = {\n",
    "        colname: tf.keras.layers.Input(\n",
    "            name=colname, shape=(), dtype=\"float32\")\n",
    "        for colname in numeric_cols}\n",
    "\n",
    "    inputs.update({\n",
    "        colname: tf.keras.layers.Input(\n",
    "            name=colname, shape=(), dtype=\"string\")\n",
    "        for colname in string_cols})\n",
    "\n",
    "    return inputs"
   ]
  },
  {
   "cell_type": "code",
   "execution_count": 7,
   "id": "bd775be2-51e5-429b-abf1-d4aaf9cc12a5",
   "metadata": {},
   "outputs": [],
   "source": [
    "def categorical_fc(name, values):\n",
    "    cat_column = fc.categorical_column_with_vocabulary_list(\n",
    "            key=name, vocabulary_list=values)\n",
    "\n",
    "    return fc.indicator_column(categorical_column=cat_column)\n",
    "\n",
    "\n",
    "def create_feature_columns(train_df, numeric_cols, string_cols):\n",
    "    feature_columns = {\n",
    "        colname : fc.numeric_column(key=colname)\n",
    "           for colname in numeric_cols\n",
    "    }\n",
    "    \n",
    "    for col in string_cols:\n",
    "        feature_columns[col] = categorical_fc(col, \n",
    "            train_df[col].unique())\n",
    "\n",
    "    return feature_columns"
   ]
  },
  {
   "cell_type": "code",
   "execution_count": 30,
   "id": "82bacca3-a052-487a-8a1a-18ae519ef609",
   "metadata": {},
   "outputs": [],
   "source": [
    "def get_model_outputs(inputs):\n",
    "    \n",
    "    # # simple model\n",
    "    # h1 = layers.Dense(28*4, activation=\"relu\", name=\"h1\")(inputs)\n",
    "    # h2 = layers.Dense(28*3, activation=\"relu\", name=\"h2\")(h1)\n",
    "    # hf = layers.Dense(28*2, activation=\"relu\", name=\"h3\")(h2)\n",
    "    \n",
    "    # medium model\n",
    "    # h1 = layers.Dense(28*100, activation=\"relu\", name=\"h1\")(inputs)\n",
    "    # h2 = layers.Dense(28*50, activation=\"relu\", name=\"h2\")(h1)\n",
    "    # h3 = layers.Dense(28*25, activation=\"relu\", name=\"h3\")(h2)\n",
    "    # h4 = layers.Dense(28*12, activation=\"relu\", name=\"h4\")(h3)\n",
    "    # h5 = layers.Dense(28*4, activation=\"relu\", name=\"h5\")(h4)\n",
    "    # hf = layers.Dense(28*2, activation=\"relu\", name=\"h6\")(h5)\n",
    "    \n",
    "    # # large model\n",
    "    h1 = layers.Dense(28*200, activation=\"relu\", name=\"h1\")(inputs)\n",
    "    h2 = layers.Dense(28*100, activation=\"relu\", name=\"h2\")(h1)\n",
    "    h3 = layers.Dense(28*50, activation=\"relu\", name=\"h3\")(h2)\n",
    "    h4 = layers.Dense(28*25, activation=\"relu\", name=\"h4\")(h3)\n",
    "    h5 = layers.Dense(28*12, activation=\"relu\", name=\"h5\")(h4)\n",
    "    h6 = layers.Dense(28*6, activation=\"relu\", name=\"h6\")(h5)\n",
    "    h7 = layers.Dense(28*4, activation=\"relu\", name=\"h7\")(h6)\n",
    "    hf = layers.Dense(28*2, activation=\"relu\", name=\"h8\")(h7)\n",
    "\n",
    "    # Final output is a linear activation because this is regression\n",
    "    output = layers.Dense(units=28, activation=\"linear\", name=\"energy\")(hf) \n",
    "\n",
    "    return output"
   ]
  },
  {
   "cell_type": "code",
   "execution_count": 9,
   "id": "e1bcd3c8-3510-4691-903e-775803372877",
   "metadata": {},
   "outputs": [],
   "source": [
    "def rmse(y_true, y_pred):\n",
    "    return tf.sqrt(tf.reduce_mean((y_pred - y_true) ** 2))"
   ]
  },
  {
   "cell_type": "code",
   "execution_count": 10,
   "id": "c501a693-6e6f-4315-b50c-c69124f5aaa5",
   "metadata": {},
   "outputs": [],
   "source": [
    "NUMERIC_COLS = col_dict['NUMERIC_COLS']\n",
    "STRING_COLS = col_dict['STRING_COLS']\n",
    "\n",
    "def build_dnn_model(LR):\n",
    "    \"\"\"Builds simple DNN using Keras Functional API.\n",
    "\n",
    "    Returns:\n",
    "        `tf.keras.models.Model` object.\n",
    "    \"\"\"\n",
    "    # Create input layer\n",
    "    inputs = create_input_layers(NUMERIC_COLS, STRING_COLS)\n",
    "\n",
    "    # Create feature columns\n",
    "    feature_columns = create_feature_columns(train_df, NUMERIC_COLS, STRING_COLS)\n",
    "\n",
    "    # The constructor for DenseFeatures takes a list of numeric columns\n",
    "    # The Functional API in Keras requires: LayerConstructor()(inputs)\n",
    "    dnn_inputs = layers.DenseFeatures(\n",
    "        feature_columns=feature_columns.values())(inputs)\n",
    "\n",
    "    # Get output of model given inputs\n",
    "    output = get_model_outputs(dnn_inputs)\n",
    "\n",
    "    # Build model and compile it all together\n",
    "    model = tf.keras.models.Model(inputs=inputs, outputs=output)\n",
    "    \n",
    "    opt = tf.keras.optimizers.Adam(learning_rate=LR)\n",
    "    model.compile(optimizer=opt, loss=\"mse\", metrics=[rmse, \"mse\"])\n",
    "    \n",
    "    return model\n",
    "\n",
    "# print(\"Here is our DNN architecture so far:\\n\")\n",
    "# model = build_dnn_model(0.001)\n",
    "# print(model.summary())"
   ]
  },
  {
   "cell_type": "code",
   "execution_count": 11,
   "id": "50af73d7-d81e-4228-979b-c362605290f6",
   "metadata": {},
   "outputs": [
    {
     "data": {
      "text/plain": [
       "0"
      ]
     },
     "execution_count": 11,
     "metadata": {},
     "output_type": "execute_result"
    }
   ],
   "source": [
    "10000*5 // (64 * 1000)"
   ]
  },
  {
   "cell_type": "code",
   "execution_count": null,
   "id": "d3a06c71-78fe-458e-b6e9-d22e35404c67",
   "metadata": {},
   "outputs": [],
   "source": [
    "NUM_TRAIN_EXAMPLES = 10000 * 5  # training dataset repeats, it'll wrap around"
   ]
  },
  {
   "cell_type": "code",
   "execution_count": 22,
   "id": "dda84fdd-ab82-45ff-9ddc-15e59f6ca434",
   "metadata": {},
   "outputs": [
    {
     "data": {
      "text/plain": [
       "109"
      ]
     },
     "execution_count": 22,
     "metadata": {},
     "output_type": "execute_result"
    }
   ],
   "source": [
    "NUM_TRAIN_EXAMPLES // (TRAIN_BATCH_SIZE * NUM_EVALS)"
   ]
  },
  {
   "cell_type": "code",
   "execution_count": 15,
   "id": "11477541-fe31-43d1-b9c9-4e520c235ca3",
   "metadata": {},
   "outputs": [
    {
     "data": {
      "text/plain": [
       "117268"
      ]
     },
     "execution_count": 15,
     "metadata": {},
     "output_type": "execute_result"
    }
   ],
   "source": [
    "eval_df.shape[0]"
   ]
  },
  {
   "cell_type": "code",
   "execution_count": null,
   "id": "13b02c0e-6dfe-409e-8829-8d47e95e78e2",
   "metadata": {},
   "outputs": [],
   "source": [
    "1000"
   ]
  },
  {
   "cell_type": "code",
   "execution_count": 16,
   "id": "ba5d6139-db6b-4919-baf2-6ba766c528e4",
   "metadata": {},
   "outputs": [
    {
     "data": {
      "text/plain": [
       "10"
      ]
     },
     "execution_count": 16,
     "metadata": {},
     "output_type": "execute_result"
    }
   ],
   "source": [
    "NUM_EVAL_EXAMPLES // 1000"
   ]
  },
  {
   "cell_type": "code",
   "execution_count": 21,
   "id": "7e1f0598-7ea3-4d5d-8b04-d030608c2809",
   "metadata": {},
   "outputs": [],
   "source": [
    "LR = 0.00001\n",
    "TRAIN_BATCH_SIZE = 64\n",
    "TEST_BATCH_SIZE = 1000\n",
    "NUM_TRAIN_EXAMPLES = train_df.shape[0]\n",
    "#NUM_TRAIN_EXAMPLES = train_df.shape[0] * 1000  # training dataset repeats, it'll wrap around\n",
    "NUM_EVALS = 50  # how many times to evaluate\n",
    "# Enough to get a reasonable sample, but not so much that it slows down\n",
    "NUM_EVAL_EXAMPLES = 10000"
   ]
  },
  {
   "cell_type": "code",
   "execution_count": 31,
   "id": "78b6873d-e92b-46b0-beab-a2c399b93212",
   "metadata": {},
   "outputs": [
    {
     "name": "stdout",
     "output_type": "stream",
     "text": [
      "steps_per_epoch:109\n"
     ]
    },
    {
     "name": "stderr",
     "output_type": "stream",
     "text": [
      "2021-11-01 17:31:07.977094: I tensorflow/core/profiler/lib/profiler_session.cc:164] Profiler session started.\n",
      "2021-11-01 17:31:07.977291: I tensorflow/core/profiler/internal/gpu/cupti_tracer.cc:1513] CUPTI activity buffer flushed\n"
     ]
    },
    {
     "name": "stdout",
     "output_type": "stream",
     "text": [
      "Epoch 1/50\n",
      "109/109 [==============================] - 5s 49ms/step - loss: 19481083904.0000 - rmse: 98953.4844 - mse: 19481083904.0000 - val_loss: 16500368384.0000 - val_rmse: 123743.9219 - val_mse: 16500368384.0000\n",
      "Epoch 2/50\n",
      "109/109 [==============================] - 3s 31ms/step - loss: 11323826176.0000 - rmse: 71875.7266 - mse: 11323826176.0000 - val_loss: 11758614528.0000 - val_rmse: 104577.8125 - val_mse: 11758614528.0000\n",
      "Epoch 3/50\n",
      "109/109 [==============================] - 3s 31ms/step - loss: 6394044928.0000 - rmse: 55746.9414 - mse: 6394044928.0000 - val_loss: 10129799168.0000 - val_rmse: 97274.4062 - val_mse: 10129799168.0000\n",
      "Epoch 4/50\n",
      "109/109 [==============================] - 3s 31ms/step - loss: 9154048000.0000 - rmse: 68947.8438 - mse: 9154048000.0000 - val_loss: 8310846464.0000 - val_rmse: 87954.5312 - val_mse: 8310846464.0000\n",
      "Epoch 5/50\n",
      "109/109 [==============================] - 3s 32ms/step - loss: 7186360832.0000 - rmse: 59688.8047 - mse: 7186360832.0000 - val_loss: 7215764992.0000 - val_rmse: 81758.1172 - val_mse: 7215764992.0000\n",
      "Epoch 6/50\n",
      "109/109 [==============================] - 3s 31ms/step - loss: 7181564928.0000 - rmse: 57782.3477 - mse: 7181564928.0000 - val_loss: 6179996160.0000 - val_rmse: 75873.6172 - val_mse: 6179996160.0000\n",
      "Epoch 7/50\n",
      "109/109 [==============================] - 3s 32ms/step - loss: 3588457472.0000 - rmse: 39759.6133 - mse: 3588457472.0000 - val_loss: 5762973696.0000 - val_rmse: 73175.6641 - val_mse: 5762973696.0000\n",
      "Epoch 8/50\n",
      "109/109 [==============================] - 3s 32ms/step - loss: 6391536128.0000 - rmse: 56932.3047 - mse: 6391536128.0000 - val_loss: 5010933248.0000 - val_rmse: 68306.0781 - val_mse: 5010933248.0000\n",
      "Epoch 9/50\n",
      "109/109 [==============================] - 4s 32ms/step - loss: 4673523200.0000 - rmse: 45200.5273 - mse: 4673523200.0000 - val_loss: 4547682816.0000 - val_rmse: 65050.0625 - val_mse: 4547682816.0000\n",
      "Epoch 10/50\n",
      "109/109 [==============================] - 3s 32ms/step - loss: 3465483520.0000 - rmse: 41083.2109 - mse: 3465483520.0000 - val_loss: 4117478656.0000 - val_rmse: 61961.6797 - val_mse: 4117478656.0000\n",
      "Epoch 11/50\n",
      "109/109 [==============================] - 3s 32ms/step - loss: 5014390272.0000 - rmse: 48190.1641 - mse: 5014390272.0000 - val_loss: 3592162048.0000 - val_rmse: 57856.3555 - val_mse: 3592162048.0000\n",
      "Epoch 12/50\n",
      "109/109 [==============================] - 3s 31ms/step - loss: 3076847872.0000 - rmse: 38062.4570 - mse: 3076847872.0000 - val_loss: 3240861440.0000 - val_rmse: 54934.5430 - val_mse: 3240861440.0000\n",
      "Epoch 13/50\n",
      "109/109 [==============================] - 3s 31ms/step - loss: 1639916032.0000 - rmse: 30679.3535 - mse: 1639916032.0000 - val_loss: 3392409600.0000 - val_rmse: 56351.7812 - val_mse: 3392409600.0000\n",
      "Epoch 14/50\n",
      "109/109 [==============================] - 3s 30ms/step - loss: 2851409664.0000 - rmse: 38131.2891 - mse: 2851409664.0000 - val_loss: 2957628160.0000 - val_rmse: 52543.5547 - val_mse: 2957628160.0000\n",
      "Epoch 15/50\n",
      "109/109 [==============================] - 3s 30ms/step - loss: 1264208640.0000 - rmse: 26683.3320 - mse: 1264208640.0000 - val_loss: 2779657728.0000 - val_rmse: 50742.6562 - val_mse: 2779657728.0000\n",
      "Epoch 16/50\n",
      "109/109 [==============================] - 3s 30ms/step - loss: 2728168192.0000 - rmse: 37775.7930 - mse: 2728168192.0000 - val_loss: 2443615744.0000 - val_rmse: 47808.4609 - val_mse: 2443615744.0000\n",
      "Epoch 17/50\n",
      "109/109 [==============================] - 3s 30ms/step - loss: 2543718400.0000 - rmse: 32613.1406 - mse: 2543718400.0000 - val_loss: 2024297344.0000 - val_rmse: 43393.7891 - val_mse: 2024297344.0000\n",
      "Epoch 18/50\n",
      "109/109 [==============================] - 3s 31ms/step - loss: 1358976384.0000 - rmse: 25006.3340 - mse: 1358976384.0000 - val_loss: 1829884032.0000 - val_rmse: 41188.8281 - val_mse: 1829884032.0000\n",
      "Epoch 19/50\n",
      "109/109 [==============================] - 3s 31ms/step - loss: 1866305024.0000 - rmse: 29631.9785 - mse: 1866305024.0000 - val_loss: 1735223168.0000 - val_rmse: 40128.7578 - val_mse: 1735223168.0000\n",
      "Epoch 20/50\n",
      "109/109 [==============================] - 3s 30ms/step - loss: 1032434688.0000 - rmse: 24109.5488 - mse: 1032434688.0000 - val_loss: 1535134080.0000 - val_rmse: 37784.6055 - val_mse: 1535134080.0000\n",
      "Epoch 21/50\n",
      "109/109 [==============================] - 3s 31ms/step - loss: 1613150208.0000 - rmse: 26786.0781 - mse: 1613150208.0000 - val_loss: 1327943552.0000 - val_rmse: 35066.3828 - val_mse: 1327943552.0000\n",
      "Epoch 22/50\n",
      "109/109 [==============================] - 3s 30ms/step - loss: 1296612480.0000 - rmse: 23932.0879 - mse: 1296612480.0000 - val_loss: 1499130624.0000 - val_rmse: 37343.5078 - val_mse: 1499130624.0000\n",
      "Epoch 23/50\n",
      "109/109 [==============================] - 3s 31ms/step - loss: 1112885120.0000 - rmse: 22418.8262 - mse: 1112885120.0000 - val_loss: 1183458560.0000 - val_rmse: 33159.3945 - val_mse: 1183458560.0000\n",
      "Epoch 24/50\n",
      "109/109 [==============================] - 3s 31ms/step - loss: 1327575936.0000 - rmse: 25171.0098 - mse: 1327575936.0000 - val_loss: 1177162880.0000 - val_rmse: 32961.0586 - val_mse: 1177162880.0000\n",
      "Epoch 25/50\n",
      "109/109 [==============================] - 3s 30ms/step - loss: 690611776.0000 - rmse: 18683.7480 - mse: 690611776.0000 - val_loss: 968495232.0000 - val_rmse: 29795.0566 - val_mse: 968495232.0000\n",
      "Epoch 26/50\n",
      "109/109 [==============================] - 3s 30ms/step - loss: 844865920.0000 - rmse: 20695.5234 - mse: 844865920.0000 - val_loss: 914889280.0000 - val_rmse: 28801.2383 - val_mse: 914889280.0000\n",
      "Epoch 27/50\n",
      "109/109 [==============================] - 3s 30ms/step - loss: 735567616.0000 - rmse: 18338.4902 - mse: 735567616.0000 - val_loss: 908414208.0000 - val_rmse: 28880.1250 - val_mse: 908414208.0000\n",
      "Epoch 28/50\n",
      "109/109 [==============================] - 3s 31ms/step - loss: 396550656.0000 - rmse: 14061.7607 - mse: 396550656.0000 - val_loss: 790545536.0000 - val_rmse: 26821.2715 - val_mse: 790545536.0000\n",
      "Epoch 29/50\n",
      "109/109 [==============================] - 3s 30ms/step - loss: 725849664.0000 - rmse: 18377.5312 - mse: 725849664.0000 - val_loss: 741679680.0000 - val_rmse: 25968.1035 - val_mse: 741679680.0000\n",
      "Epoch 30/50\n",
      "109/109 [==============================] - 3s 30ms/step - loss: 466166496.0000 - rmse: 15009.9395 - mse: 466166496.0000 - val_loss: 826489792.0000 - val_rmse: 27257.3594 - val_mse: 826489792.0000\n",
      "Epoch 31/50\n",
      "109/109 [==============================] - 3s 30ms/step - loss: 649226240.0000 - rmse: 17638.8535 - mse: 649226240.0000 - val_loss: 789258048.0000 - val_rmse: 26537.8086 - val_mse: 789258048.0000\n",
      "Epoch 32/50\n",
      "109/109 [==============================] - 3s 30ms/step - loss: 629786176.0000 - rmse: 15822.3213 - mse: 629786176.0000 - val_loss: 890179904.0000 - val_rmse: 28545.8848 - val_mse: 890179904.0000\n",
      "Epoch 33/50\n",
      "109/109 [==============================] - 3s 31ms/step - loss: 706820800.0000 - rmse: 16286.5215 - mse: 706820800.0000 - val_loss: 675811008.0000 - val_rmse: 24567.8105 - val_mse: 675811008.0000\n",
      "Epoch 34/50\n",
      "109/109 [==============================] - 3s 30ms/step - loss: 352876576.0000 - rmse: 12993.9551 - mse: 352876576.0000 - val_loss: 655724288.0000 - val_rmse: 24203.8848 - val_mse: 655724288.0000\n",
      "Epoch 35/50\n",
      "109/109 [==============================] - 3s 31ms/step - loss: 360937600.0000 - rmse: 13393.6758 - mse: 360937600.0000 - val_loss: 646378752.0000 - val_rmse: 23919.2129 - val_mse: 646378752.0000\n",
      "Epoch 36/50\n",
      "109/109 [==============================] - 3s 31ms/step - loss: 651802112.0000 - rmse: 16776.4609 - mse: 651802112.0000 - val_loss: 830637504.0000 - val_rmse: 27256.1836 - val_mse: 830637504.0000\n",
      "Epoch 37/50\n",
      "109/109 [==============================] - 3s 31ms/step - loss: 489368160.0000 - rmse: 15486.3799 - mse: 489368160.0000 - val_loss: 899214080.0000 - val_rmse: 28409.7500 - val_mse: 899214080.0000\n",
      "Epoch 38/50\n",
      "109/109 [==============================] - 3s 31ms/step - loss: 581267456.0000 - rmse: 14833.7148 - mse: 581267456.0000 - val_loss: 730671232.0000 - val_rmse: 25603.5605 - val_mse: 730671232.0000\n",
      "Epoch 39/50\n",
      "109/109 [==============================] - 3s 30ms/step - loss: 604153600.0000 - rmse: 13753.4531 - mse: 604153600.0000 - val_loss: 1151899008.0000 - val_rmse: 32531.4336 - val_mse: 1151899008.0000\n",
      "Epoch 40/50\n",
      "109/109 [==============================] - 3s 31ms/step - loss: 524609472.0000 - rmse: 14941.7197 - mse: 524609472.0000 - val_loss: 677529152.0000 - val_rmse: 24416.4785 - val_mse: 677529152.0000\n",
      "Epoch 41/50\n",
      "109/109 [==============================] - 3s 30ms/step - loss: 428525728.0000 - rmse: 13040.1182 - mse: 428525728.0000 - val_loss: 715206720.0000 - val_rmse: 25077.2812 - val_mse: 715206720.0000\n",
      "Epoch 42/50\n",
      "109/109 [==============================] - 3s 30ms/step - loss: 501988320.0000 - rmse: 15324.1074 - mse: 501988320.0000 - val_loss: 611743552.0000 - val_rmse: 23236.3789 - val_mse: 611743552.0000\n",
      "Epoch 43/50\n",
      "109/109 [==============================] - 3s 30ms/step - loss: 660377472.0000 - rmse: 16992.6562 - mse: 660377472.0000 - val_loss: 919065344.0000 - val_rmse: 28833.6875 - val_mse: 919065344.0000\n",
      "Epoch 44/50\n",
      "109/109 [==============================] - 3s 30ms/step - loss: 629585280.0000 - rmse: 14364.9717 - mse: 629585280.0000 - val_loss: 821119424.0000 - val_rmse: 27365.9023 - val_mse: 821119424.0000\n",
      "Epoch 45/50\n",
      "109/109 [==============================] - 3s 30ms/step - loss: 372418208.0000 - rmse: 13355.6504 - mse: 372418208.0000 - val_loss: 611022464.0000 - val_rmse: 23037.2031 - val_mse: 611022464.0000\n",
      "Epoch 46/50\n",
      "109/109 [==============================] - 3s 30ms/step - loss: 508220480.0000 - rmse: 14195.8096 - mse: 508220480.0000 - val_loss: 1214995712.0000 - val_rmse: 33317.7891 - val_mse: 1214995712.0000\n",
      "Epoch 47/50\n",
      "109/109 [==============================] - 3s 30ms/step - loss: 471636064.0000 - rmse: 14876.2305 - mse: 471636064.0000 - val_loss: 847651968.0000 - val_rmse: 27510.7910 - val_mse: 847651968.0000\n",
      "Epoch 48/50\n",
      "109/109 [==============================] - 3s 30ms/step - loss: 487534336.0000 - rmse: 14037.0674 - mse: 487534336.0000 - val_loss: 700026688.0000 - val_rmse: 24836.4844 - val_mse: 700026688.0000\n",
      "Epoch 49/50\n",
      "109/109 [==============================] - 4s 33ms/step - loss: 479609568.0000 - rmse: 12979.9219 - mse: 479609568.0000 - val_loss: 654060032.0000 - val_rmse: 24135.4160 - val_mse: 654060032.0000\n",
      "Epoch 50/50\n",
      "109/109 [==============================] - 4s 36ms/step - loss: 552373376.0000 - rmse: 14279.9688 - mse: 552373376.0000 - val_loss: 723532864.0000 - val_rmse: 25037.0078 - val_mse: 723532864.0000\n"
     ]
    }
   ],
   "source": [
    "LR = 0.00001\n",
    "TRAIN_BATCH_SIZE = 64\n",
    "TEST_BATCH_SIZE = 1000\n",
    "NUM_TRAIN_EXAMPLES = train_df.shape[0]\n",
    "#NUM_TRAIN_EXAMPLES = train_df.shape[0] * 1000  # training dataset repeats, it'll wrap around\n",
    "NUM_EVALS = 50  # how many times to evaluate\n",
    "# Enough to get a reasonable sample, but not so much that it slows down\n",
    "NUM_EVAL_EXAMPLES = 10000\n",
    "\n",
    "trainds = df_to_dataset(\n",
    "    train_df,\n",
    "    col_dict['STRING_COLS'] + col_dict['NUMERIC_COLS'],\n",
    "    col_dict['LABEL_COLUMNS'],\n",
    "    shuffle=True,\n",
    "    batch_size=TRAIN_BATCH_SIZE).repeat()\n",
    "\n",
    "evalds = df_to_dataset(\n",
    "    eval_df,\n",
    "    col_dict['STRING_COLS'] + col_dict['NUMERIC_COLS'],\n",
    "    col_dict['LABEL_COLUMNS'],\n",
    "    shuffle=False,\n",
    "    batch_size=TEST_BATCH_SIZE).take(count=NUM_EVAL_EXAMPLES // 1000)\n",
    "\n",
    "model = build_dnn_model(LR)\n",
    "\n",
    "steps_per_epoch = NUM_TRAIN_EXAMPLES // (TRAIN_BATCH_SIZE * NUM_EVALS)\n",
    "print(f'steps_per_epoch:{steps_per_epoch}')\n",
    "\n",
    "logdir = os.path.join(\n",
    "    \"logs\", datetime.datetime.now().strftime(\"%Y%m%d-%H%M%S\"))\n",
    "tensorboard_callback = tf.keras.callbacks.TensorBoard(\n",
    "    log_dir=logdir, histogram_freq=1)\n",
    "\n",
    "history = model.fit(\n",
    "    trainds,\n",
    "    validation_data=evalds,\n",
    "    epochs=NUM_EVALS,\n",
    "    steps_per_epoch=steps_per_epoch,\n",
    "    #callbacks=[tensorboard_callback]\n",
    ")"
   ]
  },
  {
   "cell_type": "code",
   "execution_count": null,
   "id": "a1ef6ee3-7544-4959-91c3-d8d9b4b5cd06",
   "metadata": {},
   "outputs": [],
   "source": []
  },
  {
   "cell_type": "code",
   "execution_count": null,
   "id": "a65a33ec-a0cf-4b7e-aa95-e023d9808cd2",
   "metadata": {},
   "outputs": [],
   "source": []
  },
  {
   "cell_type": "markdown",
   "id": "37674e64-ec1e-468d-994d-6a22a2c18b42",
   "metadata": {},
   "source": [
    "### Large Model"
   ]
  },
  {
   "cell_type": "code",
   "execution_count": 32,
   "id": "b003468d-ceae-431d-b7e5-16bfac1ff8fe",
   "metadata": {},
   "outputs": [
    {
     "data": {
      "text/plain": [
       "Text(0.5, 0, 'Epoch')"
      ]
     },
     "execution_count": 32,
     "metadata": {},
     "output_type": "execute_result"
    },
    {
     "data": {
      "image/png": "[encoded data removed]",
      "text/plain": [
       "<Figure size 504x360 with 1 Axes>"
      ]
     },
     "metadata": {
      "needs_background": "light"
     },
     "output_type": "display_data"
    }
   ],
   "source": [
    "fig = plt.figure(figsize=(7, 5))\n",
    "sns.lineplot(x=range(len(history.history['rmse'])), y=history.history['rmse'], label='train')\n",
    "sns.lineplot(x=range(len(history.history['val_rmse'])), y=history.history['val_rmse'], label='val')\n",
    "plt.ylabel('RMSE')\n",
    "plt.xlabel('Epoch')\n",
    "#plt.title(f'Batch Size = {batch_size}, LR = {LR}, Model = {model_desc}')"
   ]
  },
  {
   "cell_type": "code",
   "execution_count": null,
   "id": "47ae040e-ee61-4e0e-b733-a86d4fe6357a",
   "metadata": {},
   "outputs": [],
   "source": []
  },
  {
   "cell_type": "code",
   "execution_count": 37,
   "id": "e178cdc0-f749-4a77-952f-567100e14962",
   "metadata": {},
   "outputs": [
    {
     "name": "stdout",
     "output_type": "stream",
     "text": [
      "INFO:tensorflow:Assets written to: dnn_baseline/assets\n"
     ]
    }
   ],
   "source": [
    "model.save('dnn_baseline')"
   ]
  },
  {
   "cell_type": "code",
   "execution_count": 38,
   "id": "b1750599-4c63-4404-be71-62473aa83696",
   "metadata": {},
   "outputs": [
    {
     "name": "stderr",
     "output_type": "stream",
     "text": [
      "Copying file://dnn_baseline/saved_model.pb [Content-Type=application/octet-stream]...\n",
      "Copying file://dnn_baseline/variables/variables.index [Content-Type=application/octet-stream]...\n",
      "Copying file://dnn_baseline/variables/variables.data-00000-of-00001 [Content-Type=application/octet-stream]...\n",
      "==> NOTE: You are uploading one or more large file(s), which would run          \n",
      "significantly faster if you enable parallel composite uploads. This\n",
      "feature can be enabled by editing the\n",
      "\"parallel_composite_upload_threshold\" value in your .boto\n",
      "configuration file. However, note that if you do this large files will\n",
      "be uploaded as `composite objects\n",
      "<https://cloud.google.com/storage/docs/composite-objects>`_,which\n",
      "means that any user who downloads such objects will need to have a\n",
      "compiled crcmod installed (see \"gsutil help crcmod\"). This is because\n",
      "without a compiled crcmod, computing checksums on composite objects is\n",
      "so slow that gsutil disables downloads of composite objects.\n",
      "\n",
      "- [3 files][281.0 MiB/281.0 MiB]                                                \n",
      "Operation completed over 3 objects/281.0 MiB.                                    \n"
     ]
    }
   ],
   "source": [
    "%%bash\n",
    "# gsutil ls gs://qwiklabs-gcp-00-f6858b4e5c0c/energy_forecasting/\n",
    "gsutil cp -r dnn_baseline gs://qwiklabs-gcp-00-f6858b4e5c0c/energy_forecasting/dnn_baseline"
   ]
  },
  {
   "cell_type": "code",
   "execution_count": null,
   "id": "1eaab70a-5f3b-44fd-870e-829912f1dd36",
   "metadata": {},
   "outputs": [],
   "source": []
  },
  {
   "cell_type": "markdown",
   "id": "40f2c743-3405-4ae2-ac87-256ebff5b3ea",
   "metadata": {},
   "source": [
    "### Medium Model"
   ]
  },
  {
   "cell_type": "code",
   "execution_count": 29,
   "id": "cc9d87bd-337b-4dab-9678-48e126130364",
   "metadata": {},
   "outputs": [
    {
     "data": {
      "text/plain": [
       "Text(0.5, 0, 'Epoch')"
      ]
     },
     "execution_count": 29,
     "metadata": {},
     "output_type": "execute_result"
    },
    {
     "data": {
      "image/png": "[encoded data removed]",
      "text/plain": [
       "<Figure size 504x360 with 1 Axes>"
      ]
     },
     "metadata": {
      "needs_background": "light"
     },
     "output_type": "display_data"
    }
   ],
   "source": [
    "fig = plt.figure(figsize=(7, 5))\n",
    "sns.lineplot(x=range(len(history.history['rmse'])), y=history.history['rmse'], label='train')\n",
    "sns.lineplot(x=range(len(history.history['val_rmse'])), y=history.history['val_rmse'], label='val')\n",
    "plt.ylabel('RMSE')\n",
    "plt.xlabel('Epoch')\n",
    "#plt.title(f'Batch Size = {batch_size}, LR = {LR}, Model = {model_desc}')"
   ]
  },
  {
   "cell_type": "code",
   "execution_count": null,
   "id": "67029687-6ab3-476f-baaf-fac045a34626",
   "metadata": {},
   "outputs": [],
   "source": []
  }
 ],
 "metadata": {
  "environment": {
   "name": "tf2-gpu.2-3.m80",
   "type": "gcloud",
   "uri": "gcr.io/deeplearning-platform-release/tf2-gpu.2-3:m80"
  },
  "kernelspec": {
   "display_name": "Python 3",
   "language": "python",
   "name": "python3"
  },
  "language_info": {
   "codemirror_mode": {
    "name": "ipython",
    "version": 3
   },
   "file_extension": ".py",
   "mimetype": "text/x-python",
   "name": "python",
   "nbconvert_exporter": "python",
   "pygments_lexer": "ipython3",
   "version": "3.7.10"
  }
 },
 "nbformat": 4,
 "nbformat_minor": 5
}
