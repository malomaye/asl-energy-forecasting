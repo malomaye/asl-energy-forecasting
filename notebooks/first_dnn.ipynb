{
 "cells": [
  {
   "cell_type": "code",
   "execution_count": 1,
   "id": "75456d09-d98b-48e4-b4d7-533a2c736d18",
   "metadata": {},
   "outputs": [
    {
     "name": "stderr",
     "output_type": "stream",
     "text": [
      "2021-11-01 15:59:15.929642: I tensorflow/stream_executor/platform/default/dso_loader.cc:48] Successfully opened dynamic library libcudart.so.11.0\n"
     ]
    },
    {
     "name": "stdout",
     "output_type": "stream",
     "text": [
      "2.3.4\n"
     ]
    }
   ],
   "source": [
    "import os\n",
    "\n",
    "import numpy as np\n",
    "import pandas as pd\n",
    "import tensorflow as tf\n",
    "\n",
    "import datetime\n",
    "\n",
    "import matplotlib.pyplot as plt\n",
    "import seaborn as sns\n",
    "from tensorflow import keras\n",
    "from tensorflow import feature_column as fc\n",
    "from tensorflow.keras import layers, models, Model\n",
    "%matplotlib inline\n",
    "\n",
    "from data_utils import get_column_input_dict\n",
    "\n",
    "print(tf.version.VERSION)"
   ]
  },
  {
   "cell_type": "code",
   "execution_count": 2,
   "id": "acbc3a35-d6c4-4d1a-af29-26d4b47a313f",
   "metadata": {},
   "outputs": [
    {
     "name": "stdout",
     "output_type": "stream",
     "text": [
      "train shape: (351802, 314)\n",
      "eval shape: (117268, 314)\n",
      "test shape: (117268, 314)\n"
     ]
    }
   ],
   "source": [
    "train_df = pd.read_csv('./data/train_energy.csv')\n",
    "print(f'train shape: {train_df.shape}')\n",
    "eval_df = pd.read_csv('./data/validate_energy.csv')\n",
    "print(f'eval shape: {eval_df.shape}')\n",
    "test_df = pd.read_csv('./data/test_energy.csv')\n",
    "print(f'test shape: {test_df.shape}')"
   ]
  },
  {
   "cell_type": "code",
   "execution_count": 3,
   "id": "aca07206-e924-47ff-b31c-76e3f449c171",
   "metadata": {},
   "outputs": [
    {
     "data": {
      "text/plain": [
       "dict_keys(['CSV_COLUMNS', 'LABEL_COLUMNS', 'STRING_COLS', 'NUMERIC_COLS', 'DEFAULTS', 'EXCLUSION_COLS'])"
      ]
     },
     "execution_count": 3,
     "metadata": {},
     "output_type": "execute_result"
    }
   ],
   "source": [
    "col_dict = get_column_input_dict(train_df)\n",
    "col_dict.keys()"
   ]
  },
  {
   "cell_type": "markdown",
   "id": "7c9aff38-53bb-4340-bc33-76186de8865e",
   "metadata": {},
   "source": [
    "### Column Labels for First Record in DataFrame"
   ]
  },
  {
   "cell_type": "code",
   "execution_count": 4,
   "id": "bdaa3e27-0091-4f6f-9dad-0f352e46cc6b",
   "metadata": {},
   "outputs": [
    {
     "data": {
      "text/plain": [
       "array([7415.77136515, 6121.89789123, 5896.23751387, 5859.54495006,\n",
       "       5859.51165372, 6977.95782464, 5682.83018868, 5734.572697  ,\n",
       "       5767.20310766, 5786.35960044, 5939.54495006, 5967.48057714,\n",
       "       7323.04106548, 5998.97891232, 5918.43507214, 6028.53496115,\n",
       "       5790.86570477, 6565.92674806, 5506.31520533, 5590.63263041,\n",
       "       5681.74250832, 5782.77469478, 6052.14206437, 6004.46170921,\n",
       "       5742.91897891, 5510.72142064, 5141.30965594, 5393.09655938])"
      ]
     },
     "execution_count": 4,
     "metadata": {},
     "output_type": "execute_result"
    }
   ],
   "source": [
    "train_df[col_dict['LABEL_COLUMNS']].values[0]"
   ]
  },
  {
   "cell_type": "code",
   "execution_count": null,
   "id": "ee163db8-936e-41d7-b600-386479c26335",
   "metadata": {},
   "outputs": [],
   "source": []
  },
  {
   "cell_type": "code",
   "execution_count": 5,
   "id": "42f13cf6-945d-4972-9928-88605f2461c5",
   "metadata": {},
   "outputs": [],
   "source": [
    "def df_to_dataset(dataframe, feature_columns, label_columns, shuffle=True, batch_size=32):\n",
    "    \n",
    "    dataframe = dataframe.copy()\n",
    "    labels = dataframe[label_columns].values\n",
    "    \n",
    "    for col in dataframe.columns:\n",
    "        if col not in feature_columns:\n",
    "            dataframe.pop(col)\n",
    "    \n",
    "    ds = tf.data.Dataset.from_tensor_slices((dict(dataframe), labels))\n",
    "    if shuffle:\n",
    "        ds = ds.shuffle(buffer_size=10000)\n",
    "    ds = ds.batch(batch_size)\n",
    "    ds = ds.prefetch(batch_size)\n",
    "    \n",
    "    return ds"
   ]
  },
  {
   "cell_type": "code",
   "execution_count": null,
   "id": "d7e320d4-a22c-4558-8a0e-6e5607fe5731",
   "metadata": {},
   "outputs": [],
   "source": []
  },
  {
   "cell_type": "code",
   "execution_count": 6,
   "id": "223c10f4-b59e-4ddb-9392-393ad9fbbd1d",
   "metadata": {},
   "outputs": [],
   "source": [
    "def create_input_layers(numeric_cols, string_cols):\n",
    "    \"\"\"Creates dictionary of input layers for each feature.\n",
    "\n",
    "    Returns:\n",
    "        Dictionary of `tf.Keras.layers.Input` layers for each feature.\n",
    "    \"\"\"\n",
    "    inputs = {\n",
    "        colname: tf.keras.layers.Input(\n",
    "            name=colname, shape=(), dtype=\"float32\")\n",
    "        for colname in numeric_cols}\n",
    "\n",
    "    inputs.update({\n",
    "        colname: tf.keras.layers.Input(\n",
    "            name=colname, shape=(), dtype=\"string\")\n",
    "        for colname in string_cols})\n",
    "\n",
    "    return inputs"
   ]
  },
  {
   "cell_type": "code",
   "execution_count": 7,
   "id": "bd775be2-51e5-429b-abf1-d4aaf9cc12a5",
   "metadata": {},
   "outputs": [],
   "source": [
    "def categorical_fc(name, values):\n",
    "    cat_column = fc.categorical_column_with_vocabulary_list(\n",
    "            key=name, vocabulary_list=values)\n",
    "\n",
    "    return fc.indicator_column(categorical_column=cat_column)\n",
    "\n",
    "\n",
    "def create_feature_columns(train_df, numeric_cols, string_cols):\n",
    "    feature_columns = {\n",
    "        colname : fc.numeric_column(key=colname)\n",
    "           for colname in numeric_cols\n",
    "    }\n",
    "    \n",
    "    for col in string_cols:\n",
    "        feature_columns[col] = categorical_fc(col, \n",
    "            train_df[col].unique())\n",
    "\n",
    "    return feature_columns"
   ]
  },
  {
   "cell_type": "code",
   "execution_count": 8,
   "id": "82bacca3-a052-487a-8a1a-18ae519ef609",
   "metadata": {},
   "outputs": [],
   "source": [
    "def get_model_outputs(inputs):\n",
    "    \n",
    "    # # simple model\n",
    "    # h1 = layers.Dense(28*4, activation=\"relu\", name=\"h1\")(inputs)\n",
    "    # h2 = layers.Dense(28*3, activation=\"relu\", name=\"h2\")(h1)\n",
    "    # hf = layers.Dense(28*2, activation=\"relu\", name=\"h3\")(h2)\n",
    "    \n",
    "    # medium model\n",
    "    h1 = layers.Dense(28*100, activation=\"relu\", name=\"h1\")(inputs)\n",
    "    h2 = layers.Dense(28*50, activation=\"relu\", name=\"h2\")(h1)\n",
    "    h3 = layers.Dense(28*25, activation=\"relu\", name=\"h3\")(h2)\n",
    "    h4 = layers.Dense(28*12, activation=\"relu\", name=\"h4\")(h3)\n",
    "    h5 = layers.Dense(28*4, activation=\"relu\", name=\"h5\")(h4)\n",
    "    hf = layers.Dense(28*2, activation=\"relu\", name=\"h6\")(h5)\n",
    "    \n",
    "    # # large model\n",
    "    # h1 = layers.Dense(28*200, activation=\"relu\", name=\"h1\")(inputs)\n",
    "    # h2 = layers.Dense(28*100, activation=\"relu\", name=\"h2\")(h1)\n",
    "    # h3 = layers.Dense(28*50, activation=\"relu\", name=\"h3\")(h2)\n",
    "    # h4 = layers.Dense(28*25, activation=\"relu\", name=\"h4\")(h3)\n",
    "    # h5 = layers.Dense(28*12, activation=\"relu\", name=\"h5\")(h4)\n",
    "    # h6 = layers.Dense(28*6, activation=\"relu\", name=\"h6\")(h5)\n",
    "    # h7 = layers.Dense(28*4, activation=\"relu\", name=\"h7\")(h6)\n",
    "    # hf = layers.Dense(28*2, activation=\"relu\", name=\"h8\")(h7)\n",
    "\n",
    "    # Final output is a linear activation because this is regression\n",
    "    output = layers.Dense(units=28, activation=\"linear\", name=\"energy\")(hf) \n",
    "\n",
    "    return output"
   ]
  },
  {
   "cell_type": "code",
   "execution_count": 9,
   "id": "e1bcd3c8-3510-4691-903e-775803372877",
   "metadata": {},
   "outputs": [],
   "source": [
    "def rmse(y_true, y_pred):\n",
    "    return tf.sqrt(tf.reduce_mean((y_pred - y_true) ** 2))"
   ]
  },
  {
   "cell_type": "code",
   "execution_count": 10,
   "id": "c501a693-6e6f-4315-b50c-c69124f5aaa5",
   "metadata": {},
   "outputs": [],
   "source": [
    "NUMERIC_COLS = col_dict['NUMERIC_COLS']\n",
    "STRING_COLS = col_dict['STRING_COLS']\n",
    "\n",
    "def build_dnn_model(LR):\n",
    "    \"\"\"Builds simple DNN using Keras Functional API.\n",
    "\n",
    "    Returns:\n",
    "        `tf.keras.models.Model` object.\n",
    "    \"\"\"\n",
    "    # Create input layer\n",
    "    inputs = create_input_layers(NUMERIC_COLS, STRING_COLS)\n",
    "\n",
    "    # Create feature columns\n",
    "    feature_columns = create_feature_columns(train_df, NUMERIC_COLS, STRING_COLS)\n",
    "\n",
    "    # The constructor for DenseFeatures takes a list of numeric columns\n",
    "    # The Functional API in Keras requires: LayerConstructor()(inputs)\n",
    "    dnn_inputs = layers.DenseFeatures(\n",
    "        feature_columns=feature_columns.values())(inputs)\n",
    "\n",
    "    # Get output of model given inputs\n",
    "    output = get_model_outputs(dnn_inputs)\n",
    "\n",
    "    # Build model and compile it all together\n",
    "    model = tf.keras.models.Model(inputs=inputs, outputs=output)\n",
    "    \n",
    "    opt = tf.keras.optimizers.Adam(learning_rate=LR)\n",
    "    model.compile(optimizer=opt, loss=\"mse\", metrics=[rmse, \"mse\"])\n",
    "    \n",
    "    return model\n",
    "\n",
    "# print(\"Here is our DNN architecture so far:\\n\")\n",
    "# model = build_dnn_model(0.001)\n",
    "# print(model.summary())"
   ]
  },
  {
   "cell_type": "code",
   "execution_count": null,
   "id": "d3a06c71-78fe-458e-b6e9-d22e35404c67",
   "metadata": {},
   "outputs": [],
   "source": []
  },
  {
   "cell_type": "code",
   "execution_count": 11,
   "id": "78b6873d-e92b-46b0-beab-a2c399b93212",
   "metadata": {},
   "outputs": [
    {
     "name": "stderr",
     "output_type": "stream",
     "text": [
      "2021-11-01 16:00:06.103357: I tensorflow/stream_executor/platform/default/dso_loader.cc:48] Successfully opened dynamic library libcuda.so.1\n",
      "2021-11-01 16:00:06.124538: I tensorflow/stream_executor/cuda/cuda_gpu_executor.cc:982] successful NUMA node read from SysFS had negative value (-1), but there must be at least one NUMA node, so returning NUMA node zero\n",
      "2021-11-01 16:00:06.124840: I tensorflow/core/common_runtime/gpu/gpu_device.cc:1716] Found device 0 with properties: \n",
      "pciBusID: 0000:00:04.0 name: Tesla T4 computeCapability: 7.5\n",
      "coreClock: 1.59GHz coreCount: 40 deviceMemorySize: 14.75GiB deviceMemoryBandwidth: 298.08GiB/s\n",
      "2021-11-01 16:00:06.124870: I tensorflow/stream_executor/platform/default/dso_loader.cc:48] Successfully opened dynamic library libcudart.so.11.0\n",
      "2021-11-01 16:00:06.127055: I tensorflow/stream_executor/platform/default/dso_loader.cc:48] Successfully opened dynamic library libcublas.so.11\n",
      "2021-11-01 16:00:06.128139: I tensorflow/stream_executor/platform/default/dso_loader.cc:48] Successfully opened dynamic library libcufft.so.10\n",
      "2021-11-01 16:00:06.128474: I tensorflow/stream_executor/platform/default/dso_loader.cc:48] Successfully opened dynamic library libcurand.so.10\n",
      "2021-11-01 16:00:06.130923: I tensorflow/stream_executor/platform/default/dso_loader.cc:48] Successfully opened dynamic library libcusolver.so.10\n",
      "2021-11-01 16:00:06.131495: I tensorflow/stream_executor/platform/default/dso_loader.cc:48] Successfully opened dynamic library libcusparse.so.11\n",
      "2021-11-01 16:00:06.131663: I tensorflow/stream_executor/platform/default/dso_loader.cc:48] Successfully opened dynamic library libcudnn.so.8\n",
      "2021-11-01 16:00:06.131763: I tensorflow/stream_executor/cuda/cuda_gpu_executor.cc:982] successful NUMA node read from SysFS had negative value (-1), but there must be at least one NUMA node, so returning NUMA node zero\n",
      "2021-11-01 16:00:06.132085: I tensorflow/stream_executor/cuda/cuda_gpu_executor.cc:982] successful NUMA node read from SysFS had negative value (-1), but there must be at least one NUMA node, so returning NUMA node zero\n",
      "2021-11-01 16:00:06.132335: I tensorflow/core/common_runtime/gpu/gpu_device.cc:1858] Adding visible gpu devices: 0\n",
      "2021-11-01 16:00:06.140039: I tensorflow/core/platform/profile_utils/cpu_utils.cc:104] CPU Frequency: 2299995000 Hz\n",
      "2021-11-01 16:00:06.140909: I tensorflow/compiler/xla/service/service.cc:168] XLA service 0x55ec7ed22b20 initialized for platform Host (this does not guarantee that XLA will be used). Devices:\n",
      "2021-11-01 16:00:06.140935: I tensorflow/compiler/xla/service/service.cc:176]   StreamExecutor device (0): Host, Default Version\n",
      "2021-11-01 16:00:06.227375: I tensorflow/stream_executor/cuda/cuda_gpu_executor.cc:982] successful NUMA node read from SysFS had negative value (-1), but there must be at least one NUMA node, so returning NUMA node zero\n",
      "2021-11-01 16:00:06.227748: I tensorflow/compiler/xla/service/service.cc:168] XLA service 0x55ec7ecf3cc0 initialized for platform CUDA (this does not guarantee that XLA will be used). Devices:\n",
      "2021-11-01 16:00:06.227776: I tensorflow/compiler/xla/service/service.cc:176]   StreamExecutor device (0): Tesla T4, Compute Capability 7.5\n",
      "2021-11-01 16:00:06.228040: I tensorflow/stream_executor/cuda/cuda_gpu_executor.cc:982] successful NUMA node read from SysFS had negative value (-1), but there must be at least one NUMA node, so returning NUMA node zero\n",
      "2021-11-01 16:00:06.228324: I tensorflow/core/common_runtime/gpu/gpu_device.cc:1716] Found device 0 with properties: \n",
      "pciBusID: 0000:00:04.0 name: Tesla T4 computeCapability: 7.5\n",
      "coreClock: 1.59GHz coreCount: 40 deviceMemorySize: 14.75GiB deviceMemoryBandwidth: 298.08GiB/s\n",
      "2021-11-01 16:00:06.228374: I tensorflow/stream_executor/platform/default/dso_loader.cc:48] Successfully opened dynamic library libcudart.so.11.0\n",
      "2021-11-01 16:00:06.228404: I tensorflow/stream_executor/platform/default/dso_loader.cc:48] Successfully opened dynamic library libcublas.so.11\n",
      "2021-11-01 16:00:06.228420: I tensorflow/stream_executor/platform/default/dso_loader.cc:48] Successfully opened dynamic library libcufft.so.10\n",
      "2021-11-01 16:00:06.228434: I tensorflow/stream_executor/platform/default/dso_loader.cc:48] Successfully opened dynamic library libcurand.so.10\n",
      "2021-11-01 16:00:06.228449: I tensorflow/stream_executor/platform/default/dso_loader.cc:48] Successfully opened dynamic library libcusolver.so.10\n",
      "2021-11-01 16:00:06.228463: I tensorflow/stream_executor/platform/default/dso_loader.cc:48] Successfully opened dynamic library libcusparse.so.11\n",
      "2021-11-01 16:00:06.228477: I tensorflow/stream_executor/platform/default/dso_loader.cc:48] Successfully opened dynamic library libcudnn.so.8\n",
      "2021-11-01 16:00:06.228547: I tensorflow/stream_executor/cuda/cuda_gpu_executor.cc:982] successful NUMA node read from SysFS had negative value (-1), but there must be at least one NUMA node, so returning NUMA node zero\n",
      "2021-11-01 16:00:06.228868: I tensorflow/stream_executor/cuda/cuda_gpu_executor.cc:982] successful NUMA node read from SysFS had negative value (-1), but there must be at least one NUMA node, so returning NUMA node zero\n",
      "2021-11-01 16:00:06.229095: I tensorflow/core/common_runtime/gpu/gpu_device.cc:1858] Adding visible gpu devices: 0\n",
      "2021-11-01 16:00:06.229142: I tensorflow/stream_executor/platform/default/dso_loader.cc:48] Successfully opened dynamic library libcudart.so.11.0\n",
      "2021-11-01 16:00:06.500462: I tensorflow/core/common_runtime/gpu/gpu_device.cc:1257] Device interconnect StreamExecutor with strength 1 edge matrix:\n",
      "2021-11-01 16:00:06.500503: I tensorflow/core/common_runtime/gpu/gpu_device.cc:1263]      0 \n",
      "2021-11-01 16:00:06.500511: I tensorflow/core/common_runtime/gpu/gpu_device.cc:1276] 0:   N \n",
      "2021-11-01 16:00:06.500776: I tensorflow/stream_executor/cuda/cuda_gpu_executor.cc:982] successful NUMA node read from SysFS had negative value (-1), but there must be at least one NUMA node, so returning NUMA node zero\n",
      "2021-11-01 16:00:06.501114: I tensorflow/stream_executor/cuda/cuda_gpu_executor.cc:982] successful NUMA node read from SysFS had negative value (-1), but there must be at least one NUMA node, so returning NUMA node zero\n",
      "2021-11-01 16:00:06.501391: I tensorflow/core/common_runtime/gpu/gpu_device.cc:1402] Created TensorFlow device (/job:localhost/replica:0/task:0/device:GPU:0 with 281 MB memory) -> physical GPU (device: 0, name: Tesla T4, pci bus id: 0000:00:04.0, compute capability: 7.5)\n",
      "2021-11-01 16:00:10.885522: I tensorflow/core/profiler/lib/profiler_session.cc:164] Profiler session started.\n",
      "2021-11-01 16:00:10.885592: I tensorflow/core/profiler/internal/gpu/cupti_tracer.cc:1391] Profiler found 1 GPUs\n",
      "2021-11-01 16:00:10.886507: I tensorflow/stream_executor/platform/default/dso_loader.cc:48] Successfully opened dynamic library libcupti.so.11.0\n",
      "2021-11-01 16:00:11.038732: I tensorflow/core/profiler/internal/gpu/cupti_tracer.cc:1513] CUPTI activity buffer flushed\n"
     ]
    },
    {
     "name": "stdout",
     "output_type": "stream",
     "text": [
      "Epoch 1/15\n"
     ]
    },
    {
     "name": "stderr",
     "output_type": "stream",
     "text": [
      "2021-11-01 16:00:15.552877: I tensorflow/stream_executor/platform/default/dso_loader.cc:48] Successfully opened dynamic library libcublas.so.11\n"
     ]
    },
    {
     "name": "stdout",
     "output_type": "stream",
     "text": [
      " 1/52 [..............................] - ETA: 0s - loss: 2292001280.0000 - rmse: 47874.8516 - mse: 2292001280.0000WARNING:tensorflow:From /opt/conda/lib/python3.7/site-packages/tensorflow/python/ops/summary_ops_v2.py:1277: stop (from tensorflow.python.eager.profiler) is deprecated and will be removed after 2020-07-01.\n",
      "Instructions for updating:\n",
      "use `tf.profiler.experimental.stop` instead.\n",
      " 2/52 [>.............................] - ETA: 3s - loss: 6061108224.0000 - rmse: 73511.1406 - mse: 6061108224.0000WARNING:tensorflow:Callbacks method `on_train_batch_end` is slow compared to the batch time (batch time: 0.0249s vs `on_train_batch_end` time: 0.1129s). Check your callbacks.\n",
      " 5/52 [=>............................] - ETA: 1s - loss: 14011127808.0000 - rmse: 108796.1484 - mse: 14011127808.0000"
     ]
    },
    {
     "name": "stderr",
     "output_type": "stream",
     "text": [
      "2021-11-01 16:00:16.327761: I tensorflow/core/profiler/lib/profiler_session.cc:164] Profiler session started.\n",
      "2021-11-01 16:00:16.356566: I tensorflow/core/profiler/internal/gpu/cupti_tracer.cc:1513] CUPTI activity buffer flushed\n",
      "2021-11-01 16:00:16.366663: I tensorflow/core/profiler/internal/gpu/device_tracer.cc:223]  GpuTracer has collected 659 callback api events and 659 activity events. \n",
      "2021-11-01 16:00:16.398183: I tensorflow/core/profiler/rpc/client/save_profile.cc:176] Creating directory: logs/20211101-160010/train/plugins/profile/2021_11_01_16_00_16\n",
      "2021-11-01 16:00:16.412422: I tensorflow/core/profiler/rpc/client/save_profile.cc:182] Dumped gzipped tool data for trace.json.gz to logs/20211101-160010/train/plugins/profile/2021_11_01_16_00_16/asl-dlvm.trace.json.gz\n",
      "2021-11-01 16:00:16.452429: I tensorflow/core/profiler/rpc/client/save_profile.cc:176] Creating directory: logs/20211101-160010/train/plugins/profile/2021_11_01_16_00_16\n",
      "2021-11-01 16:00:16.458881: I tensorflow/core/profiler/rpc/client/save_profile.cc:182] Dumped gzipped tool data for memory_profile.json.gz to logs/20211101-160010/train/plugins/profile/2021_11_01_16_00_16/asl-dlvm.memory_profile.json.gz\n",
      "2021-11-01 16:00:16.460890: I tensorflow/python/profiler/internal/profiler_wrapper.cc:111] Creating directory: logs/20211101-160010/train/plugins/profile/2021_11_01_16_00_16Dumped tool data for xplane.pb to logs/20211101-160010/train/plugins/profile/2021_11_01_16_00_16/asl-dlvm.xplane.pb\n",
      "Dumped tool data for overview_page.pb to logs/20211101-160010/train/plugins/profile/2021_11_01_16_00_16/asl-dlvm.overview_page.pb\n",
      "Dumped tool data for input_pipeline.pb to logs/20211101-160010/train/plugins/profile/2021_11_01_16_00_16/asl-dlvm.input_pipeline.pb\n",
      "Dumped tool data for tensorflow_stats.pb to logs/20211101-160010/train/plugins/profile/2021_11_01_16_00_16/asl-dlvm.tensorflow_stats.pb\n",
      "Dumped tool data for kernel_stats.pb to logs/20211101-160010/train/plugins/profile/2021_11_01_16_00_16/asl-dlvm.kernel_stats.pb\n",
      "\n"
     ]
    },
    {
     "name": "stdout",
     "output_type": "stream",
     "text": [
      "52/52 [==============================] - 5s 97ms/step - loss: 10323079168.0000 - rmse: 80642.9453 - mse: 10323079168.0000 - val_loss: 17484431360.0000 - val_rmse: 128885.7109 - val_mse: 17484431360.0000\n",
      "Epoch 2/15\n",
      "52/52 [==============================] - 3s 57ms/step - loss: 11893751808.0000 - rmse: 79819.7812 - mse: 11893751808.0000 - val_loss: 12382577664.0000 - val_rmse: 108188.5469 - val_mse: 12382577664.0000\n",
      "Epoch 3/15\n",
      "52/52 [==============================] - 3s 56ms/step - loss: 8982706176.0000 - rmse: 63584.2969 - mse: 8982706176.0000 - val_loss: 10106294272.0000 - val_rmse: 97871.7891 - val_mse: 10106294272.0000\n",
      "Epoch 4/15\n",
      "52/52 [==============================] - 3s 57ms/step - loss: 9250257920.0000 - rmse: 73610.6797 - mse: 9250257920.0000 - val_loss: 8569673728.0000 - val_rmse: 90247.3906 - val_mse: 8569673728.0000\n",
      "Epoch 5/15\n",
      "52/52 [==============================] - 3s 56ms/step - loss: 9185864704.0000 - rmse: 73822.3984 - mse: 9185864704.0000 - val_loss: 7886582272.0000 - val_rmse: 86521.3438 - val_mse: 7886582272.0000\n",
      "Epoch 6/15\n",
      "52/52 [==============================] - 3s 57ms/step - loss: 4822850048.0000 - rmse: 53360.4805 - mse: 4822850048.0000 - val_loss: 7369352704.0000 - val_rmse: 83659.7969 - val_mse: 7369352704.0000\n",
      "Epoch 7/15\n",
      "52/52 [==============================] - 3s 56ms/step - loss: 5611687424.0000 - rmse: 53638.5859 - mse: 5611687424.0000 - val_loss: 6979775488.0000 - val_rmse: 81633.3750 - val_mse: 6979775488.0000\n",
      "Epoch 8/15\n",
      "52/52 [==============================] - 3s 56ms/step - loss: 8775498752.0000 - rmse: 60395.2539 - mse: 8775498752.0000 - val_loss: 6550136320.0000 - val_rmse: 79073.3281 - val_mse: 6550136320.0000\n",
      "Epoch 9/15\n",
      "52/52 [==============================] - 3s 56ms/step - loss: 9099342848.0000 - rmse: 59837.9336 - mse: 9099342848.0000 - val_loss: 6369772032.0000 - val_rmse: 78190.5156 - val_mse: 6369772032.0000\n",
      "Epoch 10/15\n",
      "52/52 [==============================] - 3s 55ms/step - loss: 3986052864.0000 - rmse: 45223.6328 - mse: 3986052864.0000 - val_loss: 6020198912.0000 - val_rmse: 75759.5625 - val_mse: 6020198912.0000\n",
      "Epoch 11/15\n",
      "52/52 [==============================] - 3s 55ms/step - loss: 6991700992.0000 - rmse: 55653.1328 - mse: 6991700992.0000 - val_loss: 5768071680.0000 - val_rmse: 74110.3984 - val_mse: 5768071680.0000\n",
      "Epoch 12/15\n",
      "52/52 [==============================] - 3s 56ms/step - loss: 5592718336.0000 - rmse: 52524.5664 - mse: 5592718336.0000 - val_loss: 5561377792.0000 - val_rmse: 72838.7422 - val_mse: 5561377792.0000\n",
      "Epoch 13/15\n",
      "52/52 [==============================] - 3s 55ms/step - loss: 5156839936.0000 - rmse: 49645.1836 - mse: 5156839936.0000 - val_loss: 5461130752.0000 - val_rmse: 72108.4219 - val_mse: 5461130752.0000\n",
      "Epoch 14/15\n",
      "52/52 [==============================] - 3s 56ms/step - loss: 7041018880.0000 - rmse: 58820.3203 - mse: 7041018880.0000 - val_loss: 5331873280.0000 - val_rmse: 71479.2266 - val_mse: 5331873280.0000\n",
      "Epoch 15/15\n",
      "52/52 [==============================] - 3s 57ms/step - loss: 3376889344.0000 - rmse: 43108.4180 - mse: 3376889344.0000 - val_loss: 4997507584.0000 - val_rmse: 68999.8672 - val_mse: 4997507584.0000\n"
     ]
    }
   ],
   "source": [
    "LR = 0.00001\n",
    "TRAIN_BATCH_SIZE = 64\n",
    "TEST_BATCH_SIZE = 1000\n",
    "NUM_TRAIN_EXAMPLES = 10000 * 5  # training dataset repeats, it'll wrap around\n",
    "NUM_EVALS = 15  # how many times to evaluate\n",
    "# Enough to get a reasonable sample, but not so much that it slows down\n",
    "NUM_EVAL_EXAMPLES = 10000\n",
    "\n",
    "trainds = df_to_dataset(\n",
    "    train_df,\n",
    "    col_dict['STRING_COLS'] + col_dict['NUMERIC_COLS'],\n",
    "    col_dict['LABEL_COLUMNS'],\n",
    "    shuffle=True,\n",
    "    batch_size=TRAIN_BATCH_SIZE)\n",
    "\n",
    "evalds = df_to_dataset(\n",
    "    train_df,\n",
    "    col_dict['STRING_COLS'] + col_dict['NUMERIC_COLS'],\n",
    "    col_dict['LABEL_COLUMNS'],\n",
    "    shuffle=False,\n",
    "    batch_size=TEST_BATCH_SIZE).take(count=NUM_EVAL_EXAMPLES // 1000)\n",
    "\n",
    "model = build_dnn_model(LR)\n",
    "\n",
    "steps_per_epoch = NUM_TRAIN_EXAMPLES // (TRAIN_BATCH_SIZE * NUM_EVALS)\n",
    "\n",
    "logdir = os.path.join(\n",
    "    \"logs\", datetime.datetime.now().strftime(\"%Y%m%d-%H%M%S\"))\n",
    "tensorboard_callback = tf.keras.callbacks.TensorBoard(\n",
    "    log_dir=logdir, histogram_freq=1)\n",
    "\n",
    "history = model.fit(\n",
    "    trainds,\n",
    "    validation_data=evalds,\n",
    "    epochs=NUM_EVALS,\n",
    "    steps_per_epoch=steps_per_epoch,\n",
    "    callbacks=[tensorboard_callback])"
   ]
  },
  {
   "cell_type": "code",
   "execution_count": null,
   "id": "a1ef6ee3-7544-4959-91c3-d8d9b4b5cd06",
   "metadata": {},
   "outputs": [],
   "source": []
  },
  {
   "cell_type": "code",
   "execution_count": 12,
   "id": "cc9d87bd-337b-4dab-9678-48e126130364",
   "metadata": {},
   "outputs": [
    {
     "data": {
      "text/plain": [
       "Text(0.5, 0, 'Epoch')"
      ]
     },
     "execution_count": 12,
     "metadata": {},
     "output_type": "execute_result"
    },
    {
     "data": {
      "image/png": "[encoded data removed]",
      "text/plain": [
       "<Figure size 504x360 with 1 Axes>"
      ]
     },
     "metadata": {
      "needs_background": "light"
     },
     "output_type": "display_data"
    }
   ],
   "source": [
    "fig = plt.figure(figsize=(7, 5))\n",
    "sns.lineplot(x=range(len(history.history['rmse'])), y=history.history['rmse'])\n",
    "plt.ylabel('RMSE')\n",
    "plt.xlabel('Epoch')\n",
    "#plt.title(f'Batch Size = {batch_size}, LR = {LR}, Model = {model_desc}')"
   ]
  },
  {
   "cell_type": "code",
   "execution_count": null,
   "id": "637582f1-8140-4a05-97cc-6b4c9e3e5416",
   "metadata": {},
   "outputs": [],
   "source": []
  },
  {
   "cell_type": "code",
   "execution_count": null,
   "id": "e0fcd0a3-6e0e-4ff0-b6a3-7132e931a560",
   "metadata": {},
   "outputs": [],
   "source": []
  },
  {
   "cell_type": "code",
   "execution_count": null,
   "id": "e967a265-2b28-435d-8039-ae3dae1091cf",
   "metadata": {},
   "outputs": [],
   "source": []
  },
  {
   "cell_type": "markdown",
   "id": "9f8682d3-4ded-4125-9385-f301c6f92f49",
   "metadata": {},
   "source": [
    "### This is Markdown"
   ]
  },
  {
   "cell_type": "code",
   "execution_count": null,
   "id": "67029687-6ab3-476f-baaf-fac045a34626",
   "metadata": {},
   "outputs": [],
   "source": []
  }
 ],
 "metadata": {
  "environment": {
   "name": "tf2-gpu.2-3.m80",
   "type": "gcloud",
   "uri": "gcr.io/deeplearning-platform-release/tf2-gpu.2-3:m80"
  },
  "kernelspec": {
   "display_name": "Python 3",
   "language": "python",
   "name": "python3"
  },
  "language_info": {
   "codemirror_mode": {
    "name": "ipython",
    "version": 3
   },
   "file_extension": ".py",
   "mimetype": "text/x-python",
   "name": "python",
   "nbconvert_exporter": "python",
   "pygments_lexer": "ipython3",
   "version": "3.7.10"
  }
 },
 "nbformat": 4,
 "nbformat_minor": 5
}
