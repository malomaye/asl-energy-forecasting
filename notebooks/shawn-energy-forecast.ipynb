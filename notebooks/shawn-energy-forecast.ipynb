{
 "cells": [
  {
   "cell_type": "code",
   "execution_count": 1,
   "id": "164c821a-320d-4b5f-b53b-54e8ed1f59c2",
   "metadata": {},
   "outputs": [],
   "source": [
    "import os\n",
    "import pandas as pd\n",
    "import numpy as np\n",
    "import datetime\n",
    "\n",
    "import altair as alt\n",
    "import seaborn as sns\n",
    "import matplotlib.pyplot as plt\n",
    "\n",
    "pd.set_option('display.max_columns', 500)"
   ]
  },
  {
   "cell_type": "code",
   "execution_count": 2,
   "id": "ee6fadcd-5163-45d2-9988-d2dd54d5d697",
   "metadata": {},
   "outputs": [],
   "source": [
    "if not os.path.isdir(\"./data\"):\n",
    "    os.makedirs(\"./data\")"
   ]
  },
  {
   "cell_type": "code",
   "execution_count": 3,
   "id": "8b1402cd-c870-4a89-aab3-dde93c7ec542",
   "metadata": {},
   "outputs": [
    {
     "name": "stdout",
     "output_type": "stream",
     "text": [
      "Copying gs://qwiklabs-gcp-00-f6858b4e5c0c/energy_forecasting/LD2011_2014.txt...\n",
      "Copying gs://qwiklabs-gcp-00-f6858b4e5c0c/energy_forecasting/RealMarketPriceData.csv...\n",
      "Copying gs://qwiklabs-gcp-00-f6858b4e5c0c/energy_forecasting/WeatherHistoricalData.zip...\n",
      "Copying gs://qwiklabs-gcp-00-f6858b4e5c0c/energy_forecasting/portugal_holidays.csv...\n",
      "- [4 files][683.0 MiB/683.0 MiB]   48.3 MiB/s                                   \n",
      "==> NOTE: You are performing a sequence of gsutil operations that may\n",
      "run significantly faster if you instead use gsutil -m cp ... Please\n",
      "see the -m section under \"gsutil help options\" for further information\n",
      "about when gsutil -m can be advantageous.\n",
      "\n",
      "Copying gs://qwiklabs-gcp-00-f6858b4e5c0c/energy_forecasting/ECA_blended_custom_max/TX_STAID000212.txt...\n",
      "Copying gs://qwiklabs-gcp-00-f6858b4e5c0c/energy_forecasting/ECA_blended_custom_max/elements.txt...\n",
      "Copying gs://qwiklabs-gcp-00-f6858b4e5c0c/energy_forecasting/ECA_blended_custom_max/metadata.txt...\n",
      "Copying gs://qwiklabs-gcp-00-f6858b4e5c0c/energy_forecasting/ECA_blended_custom_max/sources.txt...\n",
      "Copying gs://qwiklabs-gcp-00-f6858b4e5c0c/energy_forecasting/ECA_blended_custom_max/stations.txt...\n",
      "Copying gs://qwiklabs-gcp-00-f6858b4e5c0c/energy_forecasting/ECA_blended_custom_min/TN_STAID000212.txt...\n",
      "Copying gs://qwiklabs-gcp-00-f6858b4e5c0c/energy_forecasting/ECA_blended_custom_min/elements.txt...\n",
      "Copying gs://qwiklabs-gcp-00-f6858b4e5c0c/energy_forecasting/ECA_blended_custom_min/metadata.txt...\n",
      "Copying gs://qwiklabs-gcp-00-f6858b4e5c0c/energy_forecasting/ECA_blended_custom_min/sources.txt...\n",
      "Copying gs://qwiklabs-gcp-00-f6858b4e5c0c/energy_forecasting/ECA_blended_custom_min/stations.txt...\n",
      "/ [14 files][683.8 MiB/683.8 MiB]   18.9 MiB/s                                  \n",
      "Operation completed over 14 objects/683.8 MiB.                                   \n"
     ]
    }
   ],
   "source": [
    "!gsutil cp -r gs://qwiklabs-gcp-00-f6858b4e5c0c/energy_forecasting/* ./data/ "
   ]
  },
  {
   "cell_type": "code",
   "execution_count": 13,
   "id": "0a51bdad-e6b8-4f36-bef8-e750cdd99223",
   "metadata": {},
   "outputs": [
    {
     "name": "stdout",
     "output_type": "stream",
     "text": [
      "(9552, 2)\n"
     ]
    },
    {
     "data": {
      "text/html": [
       "<div>\n",
       "<style scoped>\n",
       "    .dataframe tbody tr th:only-of-type {\n",
       "        vertical-align: middle;\n",
       "    }\n",
       "\n",
       "    .dataframe tbody tr th {\n",
       "        vertical-align: top;\n",
       "    }\n",
       "\n",
       "    .dataframe thead th {\n",
       "        text-align: right;\n",
       "    }\n",
       "</style>\n",
       "<table border=\"1\" class=\"dataframe\">\n",
       "  <thead>\n",
       "    <tr style=\"text-align: right;\">\n",
       "      <th></th>\n",
       "      <th>date (UTC)</th>\n",
       "      <th>Price</th>\n",
       "    </tr>\n",
       "  </thead>\n",
       "  <tbody>\n",
       "    <tr>\n",
       "      <th>0</th>\n",
       "      <td>01/01/2015 00:00</td>\n",
       "      <td>48.10</td>\n",
       "    </tr>\n",
       "    <tr>\n",
       "      <th>1</th>\n",
       "      <td>01/01/2015 01:00</td>\n",
       "      <td>47.33</td>\n",
       "    </tr>\n",
       "    <tr>\n",
       "      <th>2</th>\n",
       "      <td>01/01/2015 02:00</td>\n",
       "      <td>42.27</td>\n",
       "    </tr>\n",
       "    <tr>\n",
       "      <th>3</th>\n",
       "      <td>01/01/2015 03:00</td>\n",
       "      <td>38.41</td>\n",
       "    </tr>\n",
       "    <tr>\n",
       "      <th>4</th>\n",
       "      <td>01/01/2015 04:00</td>\n",
       "      <td>35.72</td>\n",
       "    </tr>\n",
       "  </tbody>\n",
       "</table>\n",
       "</div>"
      ],
      "text/plain": [
       "         date (UTC)  Price\n",
       "0  01/01/2015 00:00  48.10\n",
       "1  01/01/2015 01:00  47.33\n",
       "2  01/01/2015 02:00  42.27\n",
       "3  01/01/2015 03:00  38.41\n",
       "4  01/01/2015 04:00  35.72"
      ]
     },
     "execution_count": 13,
     "metadata": {},
     "output_type": "execute_result"
    }
   ],
   "source": [
    "df = pd.read_csv('./data/RealMarketPriceData.csv', sep=';')\n",
    "print(df.shape)\n",
    "df.head()"
   ]
  },
  {
   "cell_type": "code",
   "execution_count": 14,
   "id": "309b78f5-db0d-48c1-8db2-a287e4fa4b1d",
   "metadata": {},
   "outputs": [
    {
     "data": {
      "text/plain": [
       "'01/01/2015 00:00'"
      ]
     },
     "execution_count": 14,
     "metadata": {},
     "output_type": "execute_result"
    }
   ],
   "source": [
    "df['date (UTC)'].min()"
   ]
  },
  {
   "cell_type": "code",
   "execution_count": 15,
   "id": "6e2bbe07-a5c7-4601-8119-be36e440bf00",
   "metadata": {},
   "outputs": [
    {
     "data": {
      "text/plain": [
       "'31/12/2015 23:00'"
      ]
     },
     "execution_count": 15,
     "metadata": {},
     "output_type": "execute_result"
    }
   ],
   "source": [
    "df['date (UTC)'].max()"
   ]
  },
  {
   "cell_type": "code",
   "execution_count": null,
   "id": "7c54c9b3-98f6-45fd-9e1d-90a64f650bc5",
   "metadata": {},
   "outputs": [],
   "source": []
  },
  {
   "cell_type": "code",
   "execution_count": null,
   "id": "c8d6213e-da23-4f7b-a57f-f156b0c1661a",
   "metadata": {},
   "outputs": [],
   "source": []
  }
 ],
 "metadata": {
  "environment": {
   "name": "tf2-gpu.2-3.m80",
   "type": "gcloud",
   "uri": "gcr.io/deeplearning-platform-release/tf2-gpu.2-3:m80"
  },
  "kernelspec": {
   "display_name": "Python 3",
   "language": "python",
   "name": "python3"
  },
  "language_info": {
   "codemirror_mode": {
    "name": "ipython",
    "version": 3
   },
   "file_extension": ".py",
   "mimetype": "text/x-python",
   "name": "python",
   "nbconvert_exporter": "python",
   "pygments_lexer": "ipython3",
   "version": "3.7.10"
  }
 },
 "nbformat": 4,
 "nbformat_minor": 5
}
